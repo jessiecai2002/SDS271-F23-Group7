{
 "cells": [
  {
   "cell_type": "code",
   "execution_count": null,
   "id": "2a76ffdb-00a0-4949-9722-803626788a68",
   "metadata": {},
   "outputs": [],
   "source": [
    "## Importing necessary libraries and walkthrough\n",
    "\n",
    "import pandas as pd\n",
    "import numpy as np\n",
    "from scipy.optimize import curve_fit\n",
    "import matplotlib.pyplot as plt\n",
    "from AltTemp_Relationship import AltTemp_Relationship"
   ]
  },
  {
   "cell_type": "markdown",
   "id": "09503d14-2329-483a-b09f-eec1dbf60b09",
   "metadata": {},
   "source": [
    "# Walkthrough \n",
    "-The necessary libraries (pandas, numpy, scipy, matplotlib) were imported.\n",
    "-The Python script (AltTemp_Relationship.py) was imported to use the Alt_Temp_Relationship class.\n",
    "-An instance of the Alt_Temp_Relationship class was created, initialized with the path to the atmospheric data CSV file (\"atm_data.csv\").\n",
    "-Then we called the clean_data method to convert temperature to Kelvin and drop any NaN values in the dataset.\n",
    "-Then we called the fit_data method to fit the altitude-temperature relationship using the curve_fit function from scipy.\n",
    "-Then we called the get_parameters method to retrieve the fitted parameters.\n",
    "-Then we called the plot_data method to create a visualization for the original data and the fitted curve on the same graph.\n",
    "\n",
    "# Conclusion\n",
    "This file serves as a guide to using the AltTemp_Relationship.py class to analyze atmospheric data, \n",
    "clean it, fit a curve, and visualize the results. This walkthrough makes it easier for the users to follow and understand how to use the provided Python script to solve their problem or to find meaningful relationship between different variables form a dataset. "
   ]
  }
 ],
 "metadata": {
  "kernelspec": {
   "display_name": "Python 3 (ipykernel)",
   "language": "python",
   "name": "python3"
  },
  "language_info": {
   "codemirror_mode": {
    "name": "ipython",
    "version": 3
   },
   "file_extension": ".py",
   "mimetype": "text/x-python",
   "name": "python",
   "nbconvert_exporter": "python",
   "pygments_lexer": "ipython3",
   "version": "3.8.10"
  }
 },
 "nbformat": 4,
 "nbformat_minor": 5
}
